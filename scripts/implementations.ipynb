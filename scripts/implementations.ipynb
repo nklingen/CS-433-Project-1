{
 "cells": [
  {
   "cell_type": "markdown",
   "metadata": {
    "colab_type": "text",
    "id": "view-in-github"
   },
   "source": [
    "<a href=\"https://colab.research.google.com/github/nklingen/CS-433-Project-1/blob/master/implementations.ipynb\" target=\"_parent\"><img src=\"https://colab.research.google.com/assets/colab-badge.svg\" alt=\"Open In Colab\"/></a>"
   ]
  },
  {
   "cell_type": "code",
   "execution_count": 0,
   "metadata": {
    "colab": {},
    "colab_type": "code",
    "id": "S9i9NKottsGH"
   },
   "outputs": [],
   "source": [
    "import numpy as np"
   ]
  },
  {
   "cell_type": "code",
   "execution_count": 0,
   "metadata": {
    "colab": {},
    "colab_type": "code",
    "id": "SMH95nqZs22G"
   },
   "outputs": [],
   "source": [
    "#from google.colab import files\n",
    "#uploaded = files.upload()"
   ]
  },
  {
   "cell_type": "markdown",
   "metadata": {
    "colab_type": "text",
    "id": "NfUTXbA4Wiyw"
   },
   "source": [
    "# **1. Least Squares Gradient Descent**\n",
    "Linear regression using gradient descent"
   ]
  },
  {
   "cell_type": "code",
   "execution_count": 0,
   "metadata": {
    "colab": {},
    "colab_type": "code",
    "id": "44RSzhP1t8_v"
   },
   "outputs": [],
   "source": [
    "def least_squares_GD(y, tx, initial_w, max_iters, gamma): \n",
    "        ws = [initial_w]\n",
    "        losses = []\n",
    "        w = initial_w\n",
    "    \n",
    "        for n_iter in range(max_iters):\n",
    "            # ***************************************************\n",
    "            # compute gradient and loss\n",
    "            gradient = compute_gradient(y, tx, w)\n",
    "            loss = compute_loss(y, tx, w)\n",
    "            # ***************************************************\n",
    "            # update w by gradient\n",
    "            w = w - gamma*gradient\n",
    "            # ***************************************************\n",
    "            # store w and loss\n",
    "            ws.append(w)\n",
    "            losses.append(loss)\n",
    "            \n",
    "        return ws, losses"
   ]
  },
  {
   "cell_type": "markdown",
   "metadata": {
    "colab_type": "text",
    "id": "zXLpV5RCWl2n"
   },
   "source": [
    "# **2. Least Squares Stochastic Gradient Descent**\n",
    "Linear regression using stochastic gradient descent"
   ]
  },
  {
   "cell_type": "code",
   "execution_count": 0,
   "metadata": {
    "colab": {},
    "colab_type": "code",
    "id": "gqMQctqJueGt"
   },
   "outputs": [],
   "source": [
    "def least_squares_SGD(y, tx, initial_w, max_iters, gamma): \n",
    "    return"
   ]
  },
  {
   "cell_type": "markdown",
   "metadata": {
    "colab_type": "text",
    "id": "gTVYJq_nWoFk"
   },
   "source": [
    "# **3. Least Squares**\n",
    "Least squares regression using normal equations"
   ]
  },
  {
   "cell_type": "code",
   "execution_count": 0,
   "metadata": {
    "colab": {},
    "colab_type": "code",
    "id": "W9PWr4-Tuh3v"
   },
   "outputs": [],
   "source": [
    "def least_squares(y, tx):\n",
    "    w = np.linalg.solve(np.dot(tx.T,tx), np.dot(tx.T,y))\n",
    "    MSE = compute_loss(y, tx, w)\n",
    "    return w, MSE"
   ]
  },
  {
   "cell_type": "markdown",
   "metadata": {
    "colab_type": "text",
    "id": "QBflVp0FWpCf"
   },
   "source": [
    "# **4. Ridge Regression**\n",
    "Ridge regression using normal equations"
   ]
  },
  {
   "cell_type": "code",
   "execution_count": 0,
   "metadata": {
    "colab": {},
    "colab_type": "code",
    "id": "rG2j5WYXukiZ"
   },
   "outputs": [],
   "source": [
    "def ridge_regression(y, tx, lambda_):\n",
    "    a = (1/len(y))*(np.dot(tx.T,tx)) + 2*(lambda_*np.identity(tx.shape[1]))\n",
    "    b = (1/len(y))*np.dot(tx.T,y)\n",
    "    w = np.linalg.solve(a,b)\n",
    "    MSE = compute_loss(y, tx, w)\n",
    "    return w, MSE"
   ]
  },
  {
   "cell_type": "markdown",
   "metadata": {
    "colab_type": "text",
    "id": "UE6g9RoTWuOf"
   },
   "source": [
    "# **5. Logistic Regression**\n",
    "Logistic regression using gradient descent or SGD"
   ]
  },
  {
   "cell_type": "code",
   "execution_count": 0,
   "metadata": {
    "colab": {},
    "colab_type": "code",
    "id": "B63ld585urMs"
   },
   "outputs": [],
   "source": [
    "def logistic_regression(y, tx, initial_w, max_iters, gamma):\n",
    "    return"
   ]
  },
  {
   "cell_type": "markdown",
   "metadata": {
    "colab_type": "text",
    "id": "9dO4-cnmWxpn"
   },
   "source": [
    "# **6. Regularized Logistic Regression**\n",
    "Regularized logistic regression using gradient descent\n",
    "or SGD"
   ]
  },
  {
   "cell_type": "code",
   "execution_count": 0,
   "metadata": {
    "colab": {},
    "colab_type": "code",
    "id": "xEF8rZmeusk1"
   },
   "outputs": [],
   "source": [
    "def reg_logistic_regression(y, tx, lambda_, initial_w, max_iters, gamma):\n",
    "    return"
   ]
  },
  {
   "cell_type": "markdown",
   "metadata": {
    "colab_type": "text",
    "id": "qUjkIrVVW2RX"
   },
   "source": [
    "# **Helper Functions**"
   ]
  },
  {
   "cell_type": "code",
   "execution_count": 0,
   "metadata": {
    "colab": {},
    "colab_type": "code",
    "id": "nJW6HstRWfuq"
   },
   "outputs": [],
   "source": [
    "def compute_loss(y, tx, w):\n",
    "    # Mean Squared Error\n",
    "    MSE = 1/(2*y.shape[0])*np.sum(np.square(y-np.dot(tx,w)))\n",
    "    return MSE"
   ]
  },
  {
   "cell_type": "code",
   "execution_count": 0,
   "metadata": {
    "colab": {},
    "colab_type": "code",
    "id": "Bc2EgK-TWfus"
   },
   "outputs": [],
   "source": [
    "def compute_gradient(y, tx, w):\n",
    "    gradient = (-1/y.shape[0])*np.dot(tx.T,(y-np.dot(tx, w)))\n",
    "    return gradient"
   ]
  }
 ],
 "metadata": {
  "colab": {
   "include_colab_link": true,
   "name": "implementations.ipynb",
   "provenance": []
  },
  "kernelspec": {
   "display_name": "Python 3",
   "language": "python",
   "name": "python3"
  },
  "language_info": {
   "codemirror_mode": {
    "name": "ipython",
    "version": 3
   },
   "file_extension": ".py",
   "mimetype": "text/x-python",
   "name": "python",
   "nbconvert_exporter": "python",
   "pygments_lexer": "ipython3",
   "version": "3.6.4"
  }
 },
 "nbformat": 4,
 "nbformat_minor": 1
}
