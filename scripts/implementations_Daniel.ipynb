{
 "cells": [
  {
   "cell_type": "markdown",
   "metadata": {
    "colab_type": "text",
    "id": "view-in-github"
   },
   "source": [
    "<a href=\"https://colab.research.google.com/github/nklingen/CS-433-Project-1/blob/master/implementations.ipynb\" target=\"_parent\"><img src=\"https://colab.research.google.com/assets/colab-badge.svg\" alt=\"Open In Colab\"/></a>"
   ]
  },
  {
   "cell_type": "code",
   "execution_count": 4,
   "metadata": {
    "colab": {},
    "colab_type": "code",
    "id": "S9i9NKottsGH"
   },
   "outputs": [],
   "source": [
    "import numpy as np\n",
    "from proj1_helpers import *"
   ]
  },
  {
   "cell_type": "code",
   "execution_count": 5,
   "metadata": {
    "colab": {},
    "colab_type": "code",
    "id": "SMH95nqZs22G"
   },
   "outputs": [],
   "source": [
    "#from google.colab import files\n",
    "#uploaded = files.upload()"
   ]
  },
  {
   "cell_type": "markdown",
   "metadata": {
    "colab_type": "text",
    "id": "NfUTXbA4Wiyw"
   },
   "source": [
    "# **1. Least Squares Gradient Descent**\n",
    "Linear regression using gradient descent"
   ]
  },
  {
   "cell_type": "code",
   "execution_count": 6,
   "metadata": {
    "colab": {},
    "colab_type": "code",
    "id": "44RSzhP1t8_v"
   },
   "outputs": [],
   "source": [
    "def least_squares_GD(y, tx, initial_w, max_iters, gamma): \n",
    "        ws = [initial_w]\n",
    "        losses = []\n",
    "        w = initial_w\n",
    "    \n",
    "        for n_iter in range(max_iters+1):\n",
    "            \n",
    "            # compute gradient and loss\n",
    "            gradient = compute_gradient_by_type(y, tx, w, \"MAE\")\n",
    "            loss = compute_loss_by_type(y, tx, w, \"MAE\")\n",
    "            \n",
    "            # update w by gradient\n",
    "            w = w - gamma*gradient\n",
    "            \n",
    "            # store w and loss\n",
    "            ws.append(w)\n",
    "            losses.append(loss)\n",
    "            if n_iter % 10 == 0 :\n",
    "                print(\"least_squares_GD ({bi}/{ti}): loss={l}\".format(bi=n_iter, ti=max_iters, l=loss))\n",
    "            \n",
    "        return ws[-1], losses[-1]"
   ]
  },
  {
   "cell_type": "markdown",
   "metadata": {
    "colab_type": "text",
    "id": "zXLpV5RCWl2n"
   },
   "source": [
    "# **2. Least Squares Stochastic Gradient Descent**\n",
    "Linear regression using stochastic gradient descent"
   ]
  },
  {
   "cell_type": "code",
   "execution_count": 7,
   "metadata": {
    "colab": {},
    "colab_type": "code",
    "id": "gqMQctqJueGt"
   },
   "outputs": [],
   "source": [
    "def least_squares_SGD(y, tx, initial_w, max_iters, gamma):\n",
    "    \"\"\"\n",
    "        Use the Stochastic Gradient Descent (batch size 1) method to find the best weights\n",
    "        \n",
    "        INPUT:\n",
    "            y           - Predictions\n",
    "            tx          - Samples\n",
    "            initial_w   - Initial weights\n",
    "            max_iters   - Maximum number of iterations\n",
    "            gamma       - Step size\n",
    "            \n",
    "        OUTPUT:\n",
    "            w           - Best weights\n",
    "            loss        - Minimum loss\n",
    "    \"\"\"\n",
    "\n",
    "    # Define a batch size of 1 for the submission\n",
    "    batch_size = int(1)\n",
    "\n",
    "    # Define parameters to store w and loss\n",
    "    ws = [initial_w]\n",
    "    losses = []\n",
    "    w = initial_w\n",
    "    iterations = []\n",
    "\n",
    "    last_loss = 0\n",
    "\n",
    "    for n_iter in range(max_iters):\n",
    "        # Compute the stochastic gradient and the loss (See helpers.py for the functions)\n",
    "        loss = compute_cost(y, tx, w)\n",
    "        grad = compute_stoch_gradient(y, tx, w, batch_size, 100)\n",
    "\n",
    "        # Update w by gradient\n",
    "        w = w - gamma * grad\n",
    "\n",
    "        # store w and loss\n",
    "        ws.append(w)\n",
    "        losses.append(loss)\n",
    "        iterations.append(n_iter)\n",
    "\n",
    "        if n_iter % 100 == 0:\n",
    "            print(\"  Iter={it}, loss={ll}, diff={dff}\".format(it=n_iter, ll=loss, dff=(loss - last_loss)))\n",
    "            last_loss = loss\n",
    "\n",
    "            # Stopping criteria for the convergence\n",
    "        if n_iter > 1 and np.abs(losses[-1] - losses[-2]) < 10 ** -8:\n",
    "            break\n",
    "\n",
    "    print(\"  Iter={it}, loss={ll}, diff={dff}\".format(it=n_iter, ll=loss, dff=(loss - last_loss)))\n",
    "    # Get the latest loss and weights\n",
    "    return ws[-1], losses[-1]"
   ]
  },
  {
   "cell_type": "markdown",
   "metadata": {
    "colab_type": "text",
    "id": "gTVYJq_nWoFk"
   },
   "source": [
    "# **3. Least Squares**\n",
    "Least squares regression using normal equations"
   ]
  },
  {
   "cell_type": "code",
   "execution_count": 8,
   "metadata": {
    "colab": {},
    "colab_type": "code",
    "id": "W9PWr4-Tuh3v"
   },
   "outputs": [],
   "source": [
    "def least_squares(y, tx):\n",
    "    w = np.linalg.solve(np.dot(tx.T,tx), np.dot(tx.T,y))\n",
    "    MSE = compute_loss(y, tx, w)\n",
    "    return w, MSE"
   ]
  },
  {
   "cell_type": "markdown",
   "metadata": {
    "colab_type": "text",
    "id": "QBflVp0FWpCf"
   },
   "source": [
    "# **4. Ridge Regression**\n",
    "Ridge regression using normal equations"
   ]
  },
  {
   "cell_type": "code",
   "execution_count": 9,
   "metadata": {
    "colab": {},
    "colab_type": "code",
    "id": "rG2j5WYXukiZ"
   },
   "outputs": [],
   "source": [
    "def ridge_regression(y, tx, lambda_):\n",
    "    a = (1/len(y))*(np.dot(tx.T,tx)) + 2*(lambda_*np.identity(tx.shape[1]))\n",
    "    b = (1/len(y))*np.dot(tx.T,y)\n",
    "    w = np.linalg.solve(a,b)\n",
    "    MSE = compute_loss(y, tx, w)\n",
    "    return w, MSE"
   ]
  },
  {
   "cell_type": "markdown",
   "metadata": {
    "colab_type": "text",
    "id": "UE6g9RoTWuOf"
   },
   "source": [
    "# **5. Logistic Regression**\n",
    "Logistic regression using gradient descent or SGD"
   ]
  },
  {
   "cell_type": "code",
   "execution_count": 10,
   "metadata": {
    "colab": {},
    "colab_type": "code",
    "id": "B63ld585urMs"
   },
   "outputs": [],
   "source": [
    "def logistic_regression(y, tx, initial_w, max_iters, gamma):\n",
    "    return"
   ]
  },
  {
   "cell_type": "markdown",
   "metadata": {
    "colab_type": "text",
    "id": "9dO4-cnmWxpn"
   },
   "source": [
    "# **6. Regularized Logistic Regression**\n",
    "Regularized logistic regression using gradient descent\n",
    "or SGD"
   ]
  },
  {
   "cell_type": "code",
   "execution_count": 11,
   "metadata": {
    "colab": {},
    "colab_type": "code",
    "id": "xEF8rZmeusk1"
   },
   "outputs": [],
   "source": [
    "def reg_logistic_regression(y, tx, lambda_, initial_w, max_iters, gamma):\n",
    "    return"
   ]
  },
  {
   "cell_type": "markdown",
   "metadata": {
    "colab_type": "text",
    "id": "qUjkIrVVW2RX"
   },
   "source": [
    "# **Helper Functions**"
   ]
  },
  {
   "cell_type": "code",
   "execution_count": 12,
   "metadata": {
    "colab": {},
    "colab_type": "code",
    "id": "nJW6HstRWfuq"
   },
   "outputs": [],
   "source": [
    "def compute_loss(y, tx, w):\n",
    "    # Mean Squared Error\n",
    "    MSE = 1/(2*y.shape[0])*np.sum(np.square(y-np.dot(tx,w)))\n",
    "    return MSE"
   ]
  },
  {
   "cell_type": "code",
   "execution_count": 13,
   "metadata": {},
   "outputs": [],
   "source": [
    "def compute_cost(y, tx, w):\n",
    "    \"\"\"\n",
    "        Compute the MSE cost.\n",
    "        \n",
    "        INPUT:\n",
    "            y           - Predictions vector\n",
    "            tx          - Samples\n",
    "            w           - Weights\n",
    "            \n",
    "        OUTPUT:\n",
    "            cost        - Double value for the costs seen in the course.\n",
    "    \"\"\"\n",
    "    # Compute the error\n",
    "    e = y - tx.dot(w)\n",
    "\n",
    "    # Compute the cost\n",
    "    return 1. / 2 * np.mean(e ** 2)"
   ]
  },
  {
   "cell_type": "code",
   "execution_count": 14,
   "metadata": {},
   "outputs": [],
   "source": [
    "def compute_loss_by_type(y, tx, w, type):\n",
    "    if (type == \"MSE\"):    \n",
    "        MSE = 1/(2*y.shape[0])*np.sum(np.square(y-np.dot(tx,w)))\n",
    "        return MSE\n",
    "    elif (type == \"MAE\"):\n",
    "        e = y - np.dot(tx, w)\n",
    "        return np.mean(np.abs(e))\n",
    "    else:\n",
    "        print(\"Type not supported\")\n",
    "        return"
   ]
  },
  {
   "cell_type": "code",
   "execution_count": 15,
   "metadata": {},
   "outputs": [],
   "source": [
    "def compute_gradient_by_type(y, tx, w, type):\n",
    "    if (type == \"MSE\"):    \n",
    "        gradient = (-1/y.shape[0])*np.dot(tx.T,(y-np.dot(tx, w)))\n",
    "        return gradient\n",
    "    elif (type == \"MAE\"):\n",
    "        MAE = 0\n",
    "        N = len(y)\n",
    "        e = y - np.dot(tx, w)\n",
    "        for i in range(len(e)):\n",
    "            MAE = MAE + np.sign(e[i])\n",
    "\n",
    "        return 1/N * MAE * w\n",
    "    else:\n",
    "        print(\"Type not supported\")\n",
    "        return"
   ]
  },
  {
   "cell_type": "code",
   "execution_count": 16,
   "metadata": {
    "colab": {},
    "colab_type": "code",
    "id": "Bc2EgK-TWfus"
   },
   "outputs": [],
   "source": [
    "def compute_gradient(y, tx, w):\n",
    "    gradient = (-1/y.shape[0])*np.dot(tx.T,(y-np.dot(tx, w)))\n",
    "    return gradient"
   ]
  },
  {
   "cell_type": "code",
   "execution_count": 17,
   "metadata": {},
   "outputs": [],
   "source": [
    "def compute_stoch_gradient(y, tx, w, batch_size, max_iter):\n",
    "    \"\"\"Compute a stochastic gradient for batch data.\"\"\"\n",
    "\n",
    "    stoch_grad = np.zeros(len(tx[0]))\n",
    "\n",
    "    for minibatch_y, minibatch_tx in batch_iter(y, tx, batch_size, max_iter):\n",
    "        stoch_grad = stoch_grad + compute_gradient(minibatch_y, minibatch_tx, w)\n",
    "\n",
    "    return 1 / float(batch_size) * stoch_grad"
   ]
  },
  {
   "cell_type": "code",
   "execution_count": 18,
   "metadata": {},
   "outputs": [],
   "source": [
    "def build_poly(x, degree):\n",
    "    return np.array([x**j for j in range(degree+1)]).T"
   ]
  },
  {
   "cell_type": "code",
   "execution_count": 20,
   "metadata": {},
   "outputs": [],
   "source": [
    "def train_test_diff(x, y, degree, ratio, seed):\n",
    "        # split the data, and return train and test data\n",
    "        train_x, train_y, test_x, test_y = split_data(tX, y, ratio, seed)\n",
    "\n",
    "        # calcualte weight through least square\n",
    "        w, loss_star = least_squares(train_y,train_x)\n",
    "\n",
    "        # calculate RMSE for train and test data,\n",
    "        # and store them in rmse_tr and rmse_te respectively: TODO\n",
    "        mse_tr = compute_loss(train_y,train_x,w)\n",
    "        mse_te = compute_loss(test_y,test_x,w)\n",
    "\n",
    "        print(\"proportion={p}, Training RMSE={tr:.3f}, Testing RMSE={te:.3f}\".format(\n",
    "                  p=ratio, tr=mse_tr, te=mse_te))"
   ]
  },
  {
   "cell_type": "code",
   "execution_count": null,
   "metadata": {},
   "outputs": [],
   "source": [
    "def batch_iter(y, tx, batch_size, num_batches=1, shuffle=True):\n",
    "    \"\"\"\n",
    "    Generate a minibatch iterator for a dataset.\n",
    "    Takes as input two iterables (here the output desired values 'y' and the input data 'tx')\n",
    "    Outputs an iterator which gives mini-batches of `batch_size` matching elements from `y` and `tx`.\n",
    "    Data can be randomly shuffled to avoid ordering in the original data messing with the randomness of the minibatches.\n",
    "    Example of use :\n",
    "    for minibatch_y, minibatch_tx in batch_iter(y, tx, 32):\n",
    "        <DO-SOMETHING>\n",
    "    \"\"\"\n",
    "    data_size = len(y)\n",
    "\n",
    "    if shuffle:\n",
    "        shuffle_indices = np.random.permutation(np.arange(data_size))\n",
    "        shuffled_y = y[shuffle_indices]\n",
    "        shuffled_tx = tx[shuffle_indices]\n",
    "    else:\n",
    "        shuffled_y = y\n",
    "        shuffled_tx = tx\n",
    "    for batch_num in range(num_batches):\n",
    "        start_index = batch_num * batch_size\n",
    "        end_index = min((batch_num + 1) * batch_size, data_size)\n",
    "        if start_index != end_index:\n",
    "            yield shuffled_y[start_index:end_index], shuffled_tx[start_index:end_index]"
   ]
  }
 ],
 "metadata": {
  "colab": {
   "include_colab_link": true,
   "name": "implementations.ipynb",
   "provenance": []
  },
  "kernelspec": {
   "display_name": "Python 3",
   "language": "python",
   "name": "python3"
  },
  "language_info": {
   "codemirror_mode": {
    "name": "ipython",
    "version": 3
   },
   "file_extension": ".py",
   "mimetype": "text/x-python",
   "name": "python",
   "nbconvert_exporter": "python",
   "pygments_lexer": "ipython3",
   "version": "3.6.8"
  }
 },
 "nbformat": 4,
 "nbformat_minor": 1
}
