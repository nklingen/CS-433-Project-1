{
 "cells": [
  {
   "cell_type": "markdown",
   "metadata": {
    "colab_type": "text",
    "id": "view-in-github"
   },
   "source": [
    "<a href=\"https://colab.research.google.com/github/nklingen/CS-433-Project-1/blob/master/implementations.ipynb\" target=\"_parent\"><img src=\"https://colab.research.google.com/assets/colab-badge.svg\" alt=\"Open In Colab\"/></a>"
   ]
  },
  {
   "cell_type": "code",
   "execution_count": 0,
   "metadata": {
    "colab": {},
    "colab_type": "code",
    "id": "S9i9NKottsGH"
   },
   "outputs": [],
   "source": [
    "import numpy as np\n",
    "from proj1_helpers import *"
   ]
  },
  {
   "cell_type": "code",
   "execution_count": 0,
   "metadata": {
    "colab": {},
    "colab_type": "code",
    "id": "SMH95nqZs22G"
   },
   "outputs": [],
   "source": [
    "#from google.colab import files\n",
    "#uploaded = files.upload()"
   ]
  },
  {
   "cell_type": "markdown",
   "metadata": {
    "colab_type": "text",
    "id": "NfUTXbA4Wiyw"
   },
   "source": [
    "# **1. Least Squares Gradient Descent**\n",
    "Linear regression using gradient descent"
   ]
  },
  {
   "cell_type": "code",
   "execution_count": 2,
   "metadata": {},
   "outputs": [],
   "source": [
    "def compute_gradient(y, tx, w):\n",
    "    \n",
    "    N = y.shape[0]\n",
    "    gradient = (-1/N)*tx.T@(y-tx@w)\n",
    "    \n",
    "    return gradient"
   ]
  },
  {
   "cell_type": "code",
   "execution_count": 0,
   "metadata": {
    "colab": {},
    "colab_type": "code",
    "id": "44RSzhP1t8_v"
   },
   "outputs": [],
   "source": [
    "def least_squares_GD(y, tx, initial_w, max_iters, gamma): \n",
    "    ws = [initial_w]\n",
    "    losses = []\n",
    "    w = initial_w\n",
    "    \n",
    "    for n_iter in range(max_iters):\n",
    "            \n",
    "        # compute gradient and loss\n",
    "        gradient = compute_gradient(y, tx, w)\n",
    "        loss = compute_loss(y, tx, w)\n",
    "\n",
    "        # update w by gradient\n",
    "        w = w - gamma*gradient\n",
    "\n",
    "        # store w and loss\n",
    "        ws.append(w)\n",
    "        losses.append(loss)\n",
    "        print(\"Step \" + str(n_iter + 1) + \"/\" + str(max_iters) + \" loss = \" + str(loss))\n",
    "            \n",
    "    return ws[-1], losses[-1]"
   ]
  },
  {
   "cell_type": "markdown",
   "metadata": {
    "colab_type": "text",
    "id": "zXLpV5RCWl2n"
   },
   "source": [
    "# **2. Least Squares Stochastic Gradient Descent**\n",
    "Linear regression using stochastic gradient descent"
   ]
  },
  {
   "cell_type": "code",
   "execution_count": 0,
   "metadata": {
    "colab": {},
    "colab_type": "code",
    "id": "gqMQctqJueGt"
   },
   "outputs": [],
   "source": [
    "def least_squares_SGD(y, tx, initial_w, max_iters, gamma): \n",
    "    \n",
    "    ws = [initial_w]\n",
    "    losses = []\n",
    "    w = initial_w\n",
    "    \n",
    "    for n_iter in range(max_iters):  \n",
    "        for minibatch_y, minibatch_tx in batch_iter(y, tx, batch_size):\n",
    "            \n",
    "            # compute gradient and loss\n",
    "            gradient = compute_stoch_gradient(minibatch_y, minibatch_tx, w)\n",
    "            loss = compute_loss(minibatch_y, minibatch_tx, w)\n",
    "            \n",
    "            # update w by gradient\n",
    "            w = w - gamma*gradient\n",
    "            \n",
    "            # store w and loss\n",
    "            ws.append(w)\n",
    "            losses.append(loss)\n",
    "            \n",
    "    return ws[len(ws)-1], losses[len(losses)-1]"
   ]
  },
  {
   "cell_type": "markdown",
   "metadata": {
    "colab_type": "text",
    "id": "gTVYJq_nWoFk"
   },
   "source": [
    "# **3. Least Squares**\n",
    "Least squares regression using normal equations"
   ]
  },
  {
   "cell_type": "code",
   "execution_count": null,
   "metadata": {},
   "outputs": [],
   "source": [
    "# Mean Squared Error\n",
    "def compute_loss(y, tx, w):\n",
    "    \n",
    "    MSE = 1/(2*y.shape[0])*np.sum(np.square(y-np.dot(tx,w)))\n",
    "    \n",
    "    return MSE"
   ]
  },
  {
   "cell_type": "code",
   "execution_count": 1,
   "metadata": {
    "colab": {},
    "colab_type": "code",
    "id": "W9PWr4-Tuh3v"
   },
   "outputs": [],
   "source": [
    "def least_squares(y, tx):\n",
    "    \n",
    "    a = tx.T@tx\n",
    "    b = tx.T@y\n",
    "    w = np.linalg.solve(a, b)\n",
    "    \n",
    "    return w"
   ]
  },
  {
   "cell_type": "markdown",
   "metadata": {
    "colab_type": "text",
    "id": "QBflVp0FWpCf"
   },
   "source": [
    "# **4. Ridge Regression**\n",
    "Ridge regression using normal equations"
   ]
  },
  {
   "cell_type": "code",
   "execution_count": 0,
   "metadata": {
    "colab": {},
    "colab_type": "code",
    "id": "rG2j5WYXukiZ"
   },
   "outputs": [],
   "source": [
    "def ridge_regression(y, tx, lambda_):\n",
    "    \n",
    "    a = (1/len(y))*(tx.T@tx) + 2*(lambda_*np.identity(tx.shape[1]))\n",
    "    b = (1/len(y))*(tx.T@y)\n",
    "    w = np.linalg.solve(a,b)\n",
    "    \n",
    "    MSE = compute_loss(y, tx, w)\n",
    "    \n",
    "    return w, MSE"
   ]
  },
  {
   "cell_type": "markdown",
   "metadata": {
    "colab_type": "text",
    "id": "UE6g9RoTWuOf"
   },
   "source": [
    "# **5. Logistic Regression**\n",
    "Logistic regression using gradient descent or SGD"
   ]
  },
  {
   "cell_type": "code",
   "execution_count": null,
   "metadata": {},
   "outputs": [],
   "source": [
    "def sigmoid(t):\n",
    "    sigmoid = math.exp(t)/(1+math.exp(t))\n",
    "    return sigmoid\n",
    "\n",
    "\n",
    "# def sigmoid(t):\n",
    "#     \"\"\"apply sigmoid function on t.\"\"\"\n",
    "#     return 1/(1+np.exp(-t))\n",
    "\n",
    "def loss_logreg(y, tx, w):\n",
    "    \"\"\"compute the cost by negative log likelihood.\"\"\"\n",
    "    s = sigmoid(np.matmul(tx, w))\n",
    "    loss = - np.sum((y*np.log(s) + (1-y)*np.log(1-s))/y.shape[0])\n",
    "    return loss\n",
    "\n",
    "# # compute the cost by negative log likelihood.\n",
    "# def calculate_loss(y, tx, w):\n",
    "\n",
    "#     loss1 = np.sum(np.log(1+math.exp(tx@w)))\n",
    "#     loss2 = np.sum(y*tx@w)\n",
    "#     loss = loss1-loss2\n",
    "    \n",
    "#     return loss\n",
    "\n",
    "def gradient_logreg(y, tx, w):\n",
    "    \"\"\"compute the gradient of loss.\"\"\"\n",
    "    s = sigmoid(np.matmul(tx, w))\n",
    "    return np.matmul(np.transpose(tx), s - y)\n",
    "\n",
    "def grad_step_logreg(y, tx, w, gamma):\n",
    "    \"\"\"\n",
    "    Do one step of gradient descen using logistic regression.\n",
    "    Return the loss and the updated w.\n",
    "    \"\"\"\n",
    "    loss = loss_logreg(y, tx, w)\n",
    "    grad = gradient_logreg(y, tx, w)\n",
    "    w = w - gamma * grad\n",
    "    return loss, w\n",
    "\n",
    "def logistic_regression(y, tx, initial_w, max_iters, gamma, batch_size=1):\n",
    "    # init parameters\n",
    "    threshold = 1e-8\n",
    "    y = y.reshape(-1,1)\n",
    "    w = initial_w.reshape(-1,1)\n",
    "    loss=None\n",
    "    # start the logistic regression\n",
    "    for n_iter in range(max_iters):\n",
    "        # get loss and update w.\n",
    "        for minibatch_y, minibatch_tx in batch_iter(y, tx, batch_size):\n",
    "            _, w = grad_step_logreg(minibatch_y, minibatch_tx, w, gamma)\n",
    "        loss = loss_logreg(y, tx, w)\n",
    "        # log info\n",
    "        print(\"Log Regression({bi}/{ti}): loss={l}\".format(\n",
    "              bi=n_iter, ti=max_iters - 1, l=loss))\n",
    "    return w, loss"
   ]
  },
  {
   "cell_type": "markdown",
   "metadata": {
    "colab_type": "text",
    "id": "9dO4-cnmWxpn"
   },
   "source": [
    "# **6. Regularized Logistic Regression**\n",
    "Regularized logistic regression using gradient descent\n",
    "or SGD"
   ]
  },
  {
   "cell_type": "code",
   "execution_count": null,
   "metadata": {},
   "outputs": [],
   "source": [
    "def penalized_logistic_regression(y, tx, w, lambda_):\n",
    "    \n",
    "    # compute the cost by negative log likelihood with added penalized term\n",
    "    loss1 = np.sum(np.log(1+math.exp(tx@w)))\n",
    "    loss2 = np.sum(y*tx@w)\n",
    "    loss = loss1-loss2+lambda_/2*w.t@w\n",
    "    \n",
    "    gradient = calculate_gradient(y, tx, w) + lambda_*w\n",
    "    \n",
    "    hessian = calculate_hessian(y, tx,w) + 2*np.diag(np.ones(len(w)))\n",
    "    \n",
    "    return loss, gradient, hessian\n",
    "    "
   ]
  },
  {
   "cell_type": "code",
   "execution_count": 0,
   "metadata": {
    "colab": {},
    "colab_type": "code",
    "id": "xEF8rZmeusk1"
   },
   "outputs": [],
   "source": [
    "def reg_logistic_regression(y, tx, lambda_, initial_w, max_iters, gamma):\n",
    "    \n",
    "    ws = [initial_w]\n",
    "    losses = []\n",
    "    hessian = []\n",
    "    w = initial_w\n",
    "    \n",
    "    \n",
    "    for n_iter in range(max_iters):\n",
    "            \n",
    "        l, g, h = penalized_logistic_regression(y, tx, w, lambda_)\n",
    "        \n",
    "        w = w - gamma*gradient\n",
    "        \n",
    "        # store w and loss\n",
    "        ws.append(w)\n",
    "        losses.append(loss)\n",
    "        hessian.append(h)\n",
    "        print(\"Step \" + str(n_iter + 1) + \"/\" + str(max_iters) + \" loss = \" + str(loss))\n",
    "\n",
    "    return loss[-1], gradient[-1], hessian[-1]"
   ]
  }
 ],
 "metadata": {
  "colab": {
   "include_colab_link": true,
   "name": "implementations.ipynb",
   "provenance": []
  },
  "kernelspec": {
   "display_name": "Python 3",
   "language": "python",
   "name": "python3"
  },
  "language_info": {
   "codemirror_mode": {
    "name": "ipython",
    "version": 3
   },
   "file_extension": ".py",
   "mimetype": "text/x-python",
   "name": "python",
   "nbconvert_exporter": "python",
   "pygments_lexer": "ipython3",
   "version": "3.6.8"
  }
 },
 "nbformat": 4,
 "nbformat_minor": 1
}
